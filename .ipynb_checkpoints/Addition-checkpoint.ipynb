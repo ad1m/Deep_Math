{
 "cells": [
  {
   "cell_type": "code",
   "execution_count": 46,
   "metadata": {
    "collapsed": false
   },
   "outputs": [],
   "source": [
    "#Imports \n",
    "import random\n",
    "import numpy as np\n",
    "\n",
    "from keras.models import Sequential\n",
    "from keras.layers import Dense"
   ]
  },
  {
   "cell_type": "code",
   "execution_count": 64,
   "metadata": {
    "collapsed": false
   },
   "outputs": [],
   "source": [
    "#Generate two numbers for addition and their sum\n",
    "def generateAdditionData(num_samples): \n",
    "    numbers = []\n",
    "    sums = []\n",
    "    for i in range(num_samples):\n",
    "        r1 = random.randint(-1000000,1000000)\n",
    "        r2 = random.randint(-1000000,1000000)\n",
    "        r = random.random()\n",
    "        s = r1 + r2\n",
    "        numbers.append([r1,r2])\n",
    "        sums.append(s)\n",
    "    return np.array(numbers),np.array(sums)\n",
    "\n",
    "X,Y = generateAdditionData(100000)\n",
    "X_train = X[0:80000]\n",
    "X_test = X[80000:]\n",
    "Y_train = Y[0:80000]\n",
    "Y_test = Y[80000:0]"
   ]
  },
  {
   "cell_type": "code",
   "execution_count": 65,
   "metadata": {
    "collapsed": false
   },
   "outputs": [],
   "source": [
    "#Create Keras Model\n",
    "def create_model(dim): \n",
    "    model = Sequential()\n",
    "    model.add(Dense(2,input_dim=dim))\n",
    "    model.add(Dense(2))\n",
    "    model.add(Dense(1))\n",
    "    model.compile(optimizer=\"adam\",loss=\"mse\",metrics=['accuracy'])\n",
    "    return model"
   ]
  },
  {
   "cell_type": "code",
   "execution_count": 66,
   "metadata": {
    "collapsed": false
   },
   "outputs": [],
   "source": [
    "dim = X_train.shape[1]\n",
    "model = create_model(dim)"
   ]
  },
  {
   "cell_type": "code",
   "execution_count": 67,
   "metadata": {
    "collapsed": false
   },
   "outputs": [
    {
     "name": "stdout",
     "output_type": "stream",
     "text": [
      "Epoch 1/5\n",
      "80000/80000 [==============================] - 7s - loss: 103621602547.0380 - acc: 0.1153     \n",
      "Epoch 2/5\n",
      "80000/80000 [==============================] - 7s - loss: 0.0803 - acc: 0.9110     \n",
      "Epoch 3/5\n",
      "80000/80000 [==============================] - 7s - loss: 0.0056 - acc: 1.0000     \n",
      "Epoch 4/5\n",
      "80000/80000 [==============================] - 7s - loss: 0.0043 - acc: 1.0000     \n",
      "Epoch 5/5\n",
      "80000/80000 [==============================] - 8s - loss: 0.0068 - acc: 0.9997     \n"
     ]
    },
    {
     "data": {
      "text/plain": [
       "<keras.callbacks.History at 0x118a28940>"
      ]
     },
     "execution_count": 67,
     "metadata": {},
     "output_type": "execute_result"
    }
   ],
   "source": [
    "model.fit(X_train,Y_train, epochs=5, batch_size=32)"
   ]
  },
  {
   "cell_type": "code",
   "execution_count": 70,
   "metadata": {
    "collapsed": false
   },
   "outputs": [
    {
     "data": {
      "text/plain": [
       "array([[ 3125.93481445]], dtype=float32)"
      ]
     },
     "execution_count": 70,
     "metadata": {},
     "output_type": "execute_result"
    }
   ],
   "source": [
    "model.predict(np.array([[-2,3128]]))"
   ]
  },
  {
   "cell_type": "code",
   "execution_count": null,
   "metadata": {
    "collapsed": true
   },
   "outputs": [],
   "source": []
  }
 ],
 "metadata": {
  "anaconda-cloud": {},
  "kernelspec": {
   "display_name": "Python [conda env:cse6240hw1]",
   "language": "python",
   "name": "conda-env-cse6240hw1-py"
  },
  "language_info": {
   "codemirror_mode": {
    "name": "ipython",
    "version": 3
   },
   "file_extension": ".py",
   "mimetype": "text/x-python",
   "name": "python",
   "nbconvert_exporter": "python",
   "pygments_lexer": "ipython3",
   "version": "3.5.2"
  }
 },
 "nbformat": 4,
 "nbformat_minor": 1
}
