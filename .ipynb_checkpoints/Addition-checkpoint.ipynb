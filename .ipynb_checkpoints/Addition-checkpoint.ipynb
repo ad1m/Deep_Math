{
 "cells": [
  {
   "cell_type": "code",
   "execution_count": 19,
   "metadata": {
    "collapsed": true
   },
   "outputs": [],
   "source": [
    "#Imports \n",
    "import random\n",
    "import numpy as np\n",
    "\n",
    "from keras.models import Sequential\n",
    "from keras.layers import Dense"
   ]
  },
  {
   "cell_type": "code",
   "execution_count": 41,
   "metadata": {
    "collapsed": false
   },
   "outputs": [
    {
     "data": {
      "text/plain": [
       "0.8888680871907916"
      ]
     },
     "execution_count": 41,
     "metadata": {},
     "output_type": "execute_result"
    }
   ],
   "source": [
    "random.random()"
   ]
  },
  {
   "cell_type": "code",
   "execution_count": 16,
   "metadata": {
    "collapsed": true
   },
   "outputs": [],
   "source": [
    "#Generate data for addition\n",
    "def generateAdditionData(num_samples): \n",
    "    numbers = []\n",
    "    sums = []\n",
    "    for i in range(num_samples):\n",
    "        r1 = random.randint(-1000000,1000000)\n",
    "        r2 = random.randint(-1000000,1000000)\n",
    "        r = random.random()\n",
    "        \n",
    "        #1 is for addition, 0 is for subtraction\n",
    "        if r >= 0.5\n",
    "            s = r1 + r2\n",
    "            numbers.append([r1,r2,1])\n",
    "            sums.append(s)\n",
    "        else: \n",
    "            s = r1 - r2 \n",
    "            numbers.append([r1,r2,0])\n",
    "            sums.append(s)\n",
    "    return np.array(numbers),np.array(sums)\n",
    "\n",
    "X,Y = generateAdditionData(100000)\n",
    "X_train = X[0:80000]\n",
    "X_test = X[80000:]\n",
    "Y_train = Y[0:80000]\n",
    "Y_test = Y[80000:0]"
   ]
  },
  {
   "cell_type": "code",
   "execution_count": 26,
   "metadata": {
    "collapsed": false
   },
   "outputs": [],
   "source": [
    "#Create Keras Model\n",
    "def create_model(dim): \n",
    "    model = Sequential()\n",
    "    model.add(Dense(64, activation='relu',input_dim=dim))\n",
    "    model.add(Dense(64, activation='relu'))\n",
    "    model.add(Dense(32, activation='relu'))\n",
    "    model.add(Dense(32, activation='relu'))\n",
    "    model.add(Dense(16, activation='relu'))\n",
    "    model.add(Dense(16, activation='relu'))\n",
    "    model.add(Dense(1))\n",
    "    model.compile(optimizer=\"adam\",loss=\"mse\",metrics=['accuracy'])\n",
    "    return model"
   ]
  },
  {
   "cell_type": "code",
   "execution_count": 27,
   "metadata": {
    "collapsed": false
   },
   "outputs": [],
   "source": [
    "dim = X_train.shape[1]\n",
    "model = create_model(dim)"
   ]
  },
  {
   "cell_type": "code",
   "execution_count": 31,
   "metadata": {
    "collapsed": false
   },
   "outputs": [
    {
     "name": "stdout",
     "output_type": "stream",
     "text": [
      "Epoch 1/5\n",
      "80000/80000 [==============================] - 10s - loss: 7977700884.6721 - acc: 4.8750e-04    \n",
      "Epoch 2/5\n",
      "80000/80000 [==============================] - 10s - loss: 158131.4147 - acc: 0.0022    \n",
      "Epoch 3/5\n",
      "80000/80000 [==============================] - 10s - loss: 2231248.7083 - acc: 0.0013    \n",
      "Epoch 4/5\n",
      "80000/80000 [==============================] - 11s - loss: 5041925.5514 - acc: 0.0011    \n",
      "Epoch 5/5\n",
      "80000/80000 [==============================] - 11s - loss: 4609261.2206 - acc: 5.5000e-04    \n"
     ]
    },
    {
     "data": {
      "text/plain": [
       "<keras.callbacks.History at 0x136c58a58>"
      ]
     },
     "execution_count": 31,
     "metadata": {},
     "output_type": "execute_result"
    }
   ],
   "source": [
    "model.fit(X_train,Y_train, epochs=5, batch_size=32)"
   ]
  },
  {
   "cell_type": "code",
   "execution_count": 45,
   "metadata": {
    "collapsed": false
   },
   "outputs": [
    {
     "data": {
      "text/plain": [
       "array([[ 4.60435677]], dtype=float32)"
      ]
     },
     "execution_count": 45,
     "metadata": {},
     "output_type": "execute_result"
    }
   ],
   "source": [
    "model.predict(np.array([[1,3]]))"
   ]
  },
  {
   "cell_type": "code",
   "execution_count": null,
   "metadata": {
    "collapsed": true
   },
   "outputs": [],
   "source": []
  }
 ],
 "metadata": {
  "anaconda-cloud": {},
  "kernelspec": {
   "display_name": "Python [conda env:cse6240hw1]",
   "language": "python",
   "name": "conda-env-cse6240hw1-py"
  },
  "language_info": {
   "codemirror_mode": {
    "name": "ipython",
    "version": 3
   },
   "file_extension": ".py",
   "mimetype": "text/x-python",
   "name": "python",
   "nbconvert_exporter": "python",
   "pygments_lexer": "ipython3",
   "version": "3.5.2"
  }
 },
 "nbformat": 4,
 "nbformat_minor": 1
}
